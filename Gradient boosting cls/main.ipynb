{
 "cells": [
  {
   "cell_type": "markdown",
   "metadata": {},
   "source": [
    "Titanic dataset classification"
   ]
  },
  {
   "cell_type": "markdown",
   "metadata": {},
   "source": [
    "reading the dataset"
   ]
  },
  {
   "cell_type": "code",
   "execution_count": 1,
   "metadata": {},
   "outputs": [],
   "source": [
    "import pandas as pd\n",
    "import numpy as numpy\n",
    "from warnings import filterwarnings\n",
    "filterwarnings(\"ignore\")"
   ]
  },
  {
   "cell_type": "code",
   "execution_count": 2,
   "metadata": {},
   "outputs": [],
   "source": [
    "df=pd.read_csv(\"train_titanic.csv\")"
   ]
  },
  {
   "cell_type": "code",
   "execution_count": 3,
   "metadata": {},
   "outputs": [
    {
     "data": {
      "text/html": [
       "<div>\n",
       "<style scoped>\n",
       "    .dataframe tbody tr th:only-of-type {\n",
       "        vertical-align: middle;\n",
       "    }\n",
       "\n",
       "    .dataframe tbody tr th {\n",
       "        vertical-align: top;\n",
       "    }\n",
       "\n",
       "    .dataframe thead th {\n",
       "        text-align: right;\n",
       "    }\n",
       "</style>\n",
       "<table border=\"1\" class=\"dataframe\">\n",
       "  <thead>\n",
       "    <tr style=\"text-align: right;\">\n",
       "      <th></th>\n",
       "      <th>PassengerId</th>\n",
       "      <th>Survived</th>\n",
       "      <th>Pclass</th>\n",
       "      <th>Name</th>\n",
       "      <th>Sex</th>\n",
       "      <th>Age</th>\n",
       "      <th>SibSp</th>\n",
       "      <th>Parch</th>\n",
       "      <th>Ticket</th>\n",
       "      <th>Fare</th>\n",
       "      <th>Cabin</th>\n",
       "      <th>Embarked</th>\n",
       "    </tr>\n",
       "  </thead>\n",
       "  <tbody>\n",
       "    <tr>\n",
       "      <th>0</th>\n",
       "      <td>1</td>\n",
       "      <td>0</td>\n",
       "      <td>3</td>\n",
       "      <td>Braund, Mr. Owen Harris</td>\n",
       "      <td>male</td>\n",
       "      <td>22.0</td>\n",
       "      <td>1</td>\n",
       "      <td>0</td>\n",
       "      <td>A/5 21171</td>\n",
       "      <td>7.2500</td>\n",
       "      <td>NaN</td>\n",
       "      <td>S</td>\n",
       "    </tr>\n",
       "    <tr>\n",
       "      <th>1</th>\n",
       "      <td>2</td>\n",
       "      <td>1</td>\n",
       "      <td>1</td>\n",
       "      <td>Cumings, Mrs. John Bradley (Florence Briggs Th...</td>\n",
       "      <td>female</td>\n",
       "      <td>38.0</td>\n",
       "      <td>1</td>\n",
       "      <td>0</td>\n",
       "      <td>PC 17599</td>\n",
       "      <td>71.2833</td>\n",
       "      <td>C85</td>\n",
       "      <td>C</td>\n",
       "    </tr>\n",
       "    <tr>\n",
       "      <th>2</th>\n",
       "      <td>3</td>\n",
       "      <td>1</td>\n",
       "      <td>3</td>\n",
       "      <td>Heikkinen, Miss. Laina</td>\n",
       "      <td>female</td>\n",
       "      <td>26.0</td>\n",
       "      <td>0</td>\n",
       "      <td>0</td>\n",
       "      <td>STON/O2. 3101282</td>\n",
       "      <td>7.9250</td>\n",
       "      <td>NaN</td>\n",
       "      <td>S</td>\n",
       "    </tr>\n",
       "    <tr>\n",
       "      <th>3</th>\n",
       "      <td>4</td>\n",
       "      <td>1</td>\n",
       "      <td>1</td>\n",
       "      <td>Futrelle, Mrs. Jacques Heath (Lily May Peel)</td>\n",
       "      <td>female</td>\n",
       "      <td>35.0</td>\n",
       "      <td>1</td>\n",
       "      <td>0</td>\n",
       "      <td>113803</td>\n",
       "      <td>53.1000</td>\n",
       "      <td>C123</td>\n",
       "      <td>S</td>\n",
       "    </tr>\n",
       "    <tr>\n",
       "      <th>4</th>\n",
       "      <td>5</td>\n",
       "      <td>0</td>\n",
       "      <td>3</td>\n",
       "      <td>Allen, Mr. William Henry</td>\n",
       "      <td>male</td>\n",
       "      <td>35.0</td>\n",
       "      <td>0</td>\n",
       "      <td>0</td>\n",
       "      <td>373450</td>\n",
       "      <td>8.0500</td>\n",
       "      <td>NaN</td>\n",
       "      <td>S</td>\n",
       "    </tr>\n",
       "  </tbody>\n",
       "</table>\n",
       "</div>"
      ],
      "text/plain": [
       "   PassengerId  Survived  Pclass  \\\n",
       "0            1         0       3   \n",
       "1            2         1       1   \n",
       "2            3         1       3   \n",
       "3            4         1       1   \n",
       "4            5         0       3   \n",
       "\n",
       "                                                Name     Sex   Age  SibSp  \\\n",
       "0                            Braund, Mr. Owen Harris    male  22.0      1   \n",
       "1  Cumings, Mrs. John Bradley (Florence Briggs Th...  female  38.0      1   \n",
       "2                             Heikkinen, Miss. Laina  female  26.0      0   \n",
       "3       Futrelle, Mrs. Jacques Heath (Lily May Peel)  female  35.0      1   \n",
       "4                           Allen, Mr. William Henry    male  35.0      0   \n",
       "\n",
       "   Parch            Ticket     Fare Cabin Embarked  \n",
       "0      0         A/5 21171   7.2500   NaN        S  \n",
       "1      0          PC 17599  71.2833   C85        C  \n",
       "2      0  STON/O2. 3101282   7.9250   NaN        S  \n",
       "3      0            113803  53.1000  C123        S  \n",
       "4      0            373450   8.0500   NaN        S  "
      ]
     },
     "execution_count": 3,
     "metadata": {},
     "output_type": "execute_result"
    }
   ],
   "source": [
    "df.head()"
   ]
  },
  {
   "cell_type": "code",
   "execution_count": 4,
   "metadata": {},
   "outputs": [
    {
     "name": "stdout",
     "output_type": "stream",
     "text": [
      "<class 'pandas.core.frame.DataFrame'>\n",
      "RangeIndex: 891 entries, 0 to 890\n",
      "Data columns (total 12 columns):\n",
      " #   Column       Non-Null Count  Dtype  \n",
      "---  ------       --------------  -----  \n",
      " 0   PassengerId  891 non-null    int64  \n",
      " 1   Survived     891 non-null    int64  \n",
      " 2   Pclass       891 non-null    int64  \n",
      " 3   Name         891 non-null    object \n",
      " 4   Sex          891 non-null    object \n",
      " 5   Age          714 non-null    float64\n",
      " 6   SibSp        891 non-null    int64  \n",
      " 7   Parch        891 non-null    int64  \n",
      " 8   Ticket       891 non-null    object \n",
      " 9   Fare         891 non-null    float64\n",
      " 10  Cabin        204 non-null    object \n",
      " 11  Embarked     889 non-null    object \n",
      "dtypes: float64(2), int64(5), object(5)\n",
      "memory usage: 83.7+ KB\n"
     ]
    }
   ],
   "source": [
    "df.info()"
   ]
  },
  {
   "cell_type": "code",
   "execution_count": 6,
   "metadata": {},
   "outputs": [
    {
     "data": {
      "text/plain": [
       "PassengerId      0\n",
       "Survived         0\n",
       "Pclass           0\n",
       "Name             0\n",
       "Sex              0\n",
       "Age            177\n",
       "SibSp            0\n",
       "Parch            0\n",
       "Ticket           0\n",
       "Fare             0\n",
       "Cabin          687\n",
       "Embarked         2\n",
       "dtype: int64"
      ]
     },
     "execution_count": 6,
     "metadata": {},
     "output_type": "execute_result"
    }
   ],
   "source": [
    "# checking missing values\n",
    "df.isna().sum()"
   ]
  },
  {
   "cell_type": "code",
   "execution_count": 8,
   "metadata": {},
   "outputs": [
    {
     "data": {
      "text/plain": [
       "PassengerId     0.000000\n",
       "Survived        0.000000\n",
       "Pclass          0.000000\n",
       "Name            0.000000\n",
       "Sex             0.000000\n",
       "Age            19.865320\n",
       "SibSp           0.000000\n",
       "Parch           0.000000\n",
       "Ticket          0.000000\n",
       "Fare            0.000000\n",
       "Cabin          77.104377\n",
       "Embarked        0.224467\n",
       "dtype: float64"
      ]
     },
     "execution_count": 8,
     "metadata": {},
     "output_type": "execute_result"
    }
   ],
   "source": [
    "df.isna().mean()*100"
   ]
  },
  {
   "cell_type": "code",
   "execution_count": 9,
   "metadata": {},
   "outputs": [
    {
     "data": {
      "text/plain": [
       "0"
      ]
     },
     "execution_count": 9,
     "metadata": {},
     "output_type": "execute_result"
    }
   ],
   "source": [
    "# checking duplicated data\n",
    "df.duplicated().sum()"
   ]
  },
  {
   "cell_type": "markdown",
   "metadata": {},
   "source": [
    "seperating x and y in dataset"
   ]
  },
  {
   "cell_type": "code",
   "execution_count": 11,
   "metadata": {},
   "outputs": [
    {
     "data": {
      "text/html": [
       "<div>\n",
       "<style scoped>\n",
       "    .dataframe tbody tr th:only-of-type {\n",
       "        vertical-align: middle;\n",
       "    }\n",
       "\n",
       "    .dataframe tbody tr th {\n",
       "        vertical-align: top;\n",
       "    }\n",
       "\n",
       "    .dataframe thead th {\n",
       "        text-align: right;\n",
       "    }\n",
       "</style>\n",
       "<table border=\"1\" class=\"dataframe\">\n",
       "  <thead>\n",
       "    <tr style=\"text-align: right;\">\n",
       "      <th></th>\n",
       "      <th>Pclass</th>\n",
       "      <th>Sex</th>\n",
       "      <th>Age</th>\n",
       "      <th>SibSp</th>\n",
       "      <th>Parch</th>\n",
       "      <th>Fare</th>\n",
       "      <th>Embarked</th>\n",
       "    </tr>\n",
       "  </thead>\n",
       "  <tbody>\n",
       "    <tr>\n",
       "      <th>0</th>\n",
       "      <td>3</td>\n",
       "      <td>male</td>\n",
       "      <td>22.0</td>\n",
       "      <td>1</td>\n",
       "      <td>0</td>\n",
       "      <td>7.2500</td>\n",
       "      <td>S</td>\n",
       "    </tr>\n",
       "    <tr>\n",
       "      <th>1</th>\n",
       "      <td>1</td>\n",
       "      <td>female</td>\n",
       "      <td>38.0</td>\n",
       "      <td>1</td>\n",
       "      <td>0</td>\n",
       "      <td>71.2833</td>\n",
       "      <td>C</td>\n",
       "    </tr>\n",
       "    <tr>\n",
       "      <th>2</th>\n",
       "      <td>3</td>\n",
       "      <td>female</td>\n",
       "      <td>26.0</td>\n",
       "      <td>0</td>\n",
       "      <td>0</td>\n",
       "      <td>7.9250</td>\n",
       "      <td>S</td>\n",
       "    </tr>\n",
       "    <tr>\n",
       "      <th>3</th>\n",
       "      <td>1</td>\n",
       "      <td>female</td>\n",
       "      <td>35.0</td>\n",
       "      <td>1</td>\n",
       "      <td>0</td>\n",
       "      <td>53.1000</td>\n",
       "      <td>S</td>\n",
       "    </tr>\n",
       "    <tr>\n",
       "      <th>4</th>\n",
       "      <td>3</td>\n",
       "      <td>male</td>\n",
       "      <td>35.0</td>\n",
       "      <td>0</td>\n",
       "      <td>0</td>\n",
       "      <td>8.0500</td>\n",
       "      <td>S</td>\n",
       "    </tr>\n",
       "  </tbody>\n",
       "</table>\n",
       "</div>"
      ],
      "text/plain": [
       "   Pclass     Sex   Age  SibSp  Parch     Fare Embarked\n",
       "0       3    male  22.0      1      0   7.2500        S\n",
       "1       1  female  38.0      1      0  71.2833        C\n",
       "2       3  female  26.0      0      0   7.9250        S\n",
       "3       1  female  35.0      1      0  53.1000        S\n",
       "4       3    male  35.0      0      0   8.0500        S"
      ]
     },
     "execution_count": 11,
     "metadata": {},
     "output_type": "execute_result"
    }
   ],
   "source": [
    "x=df.drop(columns=[\"PassengerId\",\"Name\",\"Ticket\",\"Cabin\",\"Survived\"])\n",
    "x.head()"
   ]
  },
  {
   "cell_type": "code",
   "execution_count": 13,
   "metadata": {},
   "outputs": [
    {
     "data": {
      "text/html": [
       "<div>\n",
       "<style scoped>\n",
       "    .dataframe tbody tr th:only-of-type {\n",
       "        vertical-align: middle;\n",
       "    }\n",
       "\n",
       "    .dataframe tbody tr th {\n",
       "        vertical-align: top;\n",
       "    }\n",
       "\n",
       "    .dataframe thead th {\n",
       "        text-align: right;\n",
       "    }\n",
       "</style>\n",
       "<table border=\"1\" class=\"dataframe\">\n",
       "  <thead>\n",
       "    <tr style=\"text-align: right;\">\n",
       "      <th></th>\n",
       "      <th>Survived</th>\n",
       "    </tr>\n",
       "  </thead>\n",
       "  <tbody>\n",
       "    <tr>\n",
       "      <th>0</th>\n",
       "      <td>0</td>\n",
       "    </tr>\n",
       "    <tr>\n",
       "      <th>1</th>\n",
       "      <td>1</td>\n",
       "    </tr>\n",
       "    <tr>\n",
       "      <th>2</th>\n",
       "      <td>1</td>\n",
       "    </tr>\n",
       "    <tr>\n",
       "      <th>3</th>\n",
       "      <td>1</td>\n",
       "    </tr>\n",
       "    <tr>\n",
       "      <th>4</th>\n",
       "      <td>0</td>\n",
       "    </tr>\n",
       "  </tbody>\n",
       "</table>\n",
       "</div>"
      ],
      "text/plain": [
       "   Survived\n",
       "0         0\n",
       "1         1\n",
       "2         1\n",
       "3         1\n",
       "4         0"
      ]
     },
     "execution_count": 13,
     "metadata": {},
     "output_type": "execute_result"
    }
   ],
   "source": [
    "y=df[[\"Survived\"]]\n",
    "y.head()"
   ]
  },
  {
   "cell_type": "markdown",
   "metadata": {},
   "source": [
    "Seperate cat and con data in x"
   ]
  },
  {
   "cell_type": "code",
   "execution_count": 14,
   "metadata": {},
   "outputs": [
    {
     "data": {
      "text/plain": [
       "['Sex', 'Embarked']"
      ]
     },
     "execution_count": 14,
     "metadata": {},
     "output_type": "execute_result"
    }
   ],
   "source": [
    "cat=list(x.columns[x.dtypes==\"object\"])\n",
    "cat"
   ]
  },
  {
   "cell_type": "code",
   "execution_count": 15,
   "metadata": {},
   "outputs": [
    {
     "data": {
      "text/plain": [
       "['Pclass', 'Age', 'SibSp', 'Parch', 'Fare']"
      ]
     },
     "execution_count": 15,
     "metadata": {},
     "output_type": "execute_result"
    }
   ],
   "source": [
    "con=list(x.columns[x.dtypes!=\"object\"])\n",
    "con"
   ]
  },
  {
   "cell_type": "markdown",
   "metadata": {},
   "source": [
    "Create a Preprocessing pipeline"
   ]
  },
  {
   "cell_type": "code",
   "execution_count": 17,
   "metadata": {},
   "outputs": [],
   "source": [
    "from sklearn.preprocessing import StandardScaler,OneHotEncoder\n",
    "from sklearn.impute import SimpleImputer\n",
    "from sklearn.pipeline import Pipeline\n",
    "from sklearn.compose import ColumnTransformer\n"
   ]
  },
  {
   "cell_type": "code",
   "execution_count": 18,
   "metadata": {},
   "outputs": [],
   "source": [
    "# create numerical Pipeline\n",
    "\n",
    "num_pipe=Pipeline(steps=[('impute',SimpleImputer(strategy=\"median\")),\n",
    "                         ('scaler',StandardScaler())])\n"
   ]
  },
  {
   "cell_type": "code",
   "execution_count": 19,
   "metadata": {},
   "outputs": [],
   "source": [
    "\n",
    "# create categorical pipeline\n",
    "cat_pipe=Pipeline(steps=[('impute',SimpleImputer(strategy=\"most_frequent\")),\n",
    "                         ('ohe',OneHotEncoder(handle_unknown=\"ignore\"))])"
   ]
  },
  {
   "cell_type": "code",
   "execution_count": 20,
   "metadata": {},
   "outputs": [],
   "source": [
    "pre=ColumnTransformer([('num',num_pipe,con),\n",
    "                       ('cat',cat_pipe,cat)])"
   ]
  },
  {
   "cell_type": "code",
   "execution_count": 21,
   "metadata": {},
   "outputs": [
    {
     "data": {
      "text/plain": [
       "array([[ 0.82737724, -0.56573646,  0.43279337, ...,  0.        ,\n",
       "         0.        ,  1.        ],\n",
       "       [-1.56610693,  0.66386103,  0.43279337, ...,  1.        ,\n",
       "         0.        ,  0.        ],\n",
       "       [ 0.82737724, -0.25833709, -0.4745452 , ...,  0.        ,\n",
       "         0.        ,  1.        ],\n",
       "       ...,\n",
       "       [ 0.82737724, -0.1046374 ,  0.43279337, ...,  0.        ,\n",
       "         0.        ,  1.        ],\n",
       "       [-1.56610693, -0.25833709, -0.4745452 , ...,  1.        ,\n",
       "         0.        ,  0.        ],\n",
       "       [ 0.82737724,  0.20276197, -0.4745452 , ...,  0.        ,\n",
       "         1.        ,  0.        ]])"
      ]
     },
     "execution_count": 21,
     "metadata": {},
     "output_type": "execute_result"
    }
   ],
   "source": [
    "x_pre=pre.fit_transform(x)\n",
    "x_pre"
   ]
  },
  {
   "cell_type": "code",
   "execution_count": 22,
   "metadata": {},
   "outputs": [
    {
     "data": {
      "text/plain": [
       "array(['num__Pclass', 'num__Age', 'num__SibSp', 'num__Parch', 'num__Fare',\n",
       "       'cat__Sex_female', 'cat__Sex_male', 'cat__Embarked_C',\n",
       "       'cat__Embarked_Q', 'cat__Embarked_S'], dtype=object)"
      ]
     },
     "execution_count": 22,
     "metadata": {},
     "output_type": "execute_result"
    }
   ],
   "source": [
    "cols=pre.get_feature_names_out()\n",
    "cols"
   ]
  },
  {
   "cell_type": "code",
   "execution_count": 23,
   "metadata": {},
   "outputs": [
    {
     "data": {
      "text/html": [
       "<div>\n",
       "<style scoped>\n",
       "    .dataframe tbody tr th:only-of-type {\n",
       "        vertical-align: middle;\n",
       "    }\n",
       "\n",
       "    .dataframe tbody tr th {\n",
       "        vertical-align: top;\n",
       "    }\n",
       "\n",
       "    .dataframe thead th {\n",
       "        text-align: right;\n",
       "    }\n",
       "</style>\n",
       "<table border=\"1\" class=\"dataframe\">\n",
       "  <thead>\n",
       "    <tr style=\"text-align: right;\">\n",
       "      <th></th>\n",
       "      <th>num__Pclass</th>\n",
       "      <th>num__Age</th>\n",
       "      <th>num__SibSp</th>\n",
       "      <th>num__Parch</th>\n",
       "      <th>num__Fare</th>\n",
       "      <th>cat__Sex_female</th>\n",
       "      <th>cat__Sex_male</th>\n",
       "      <th>cat__Embarked_C</th>\n",
       "      <th>cat__Embarked_Q</th>\n",
       "      <th>cat__Embarked_S</th>\n",
       "    </tr>\n",
       "  </thead>\n",
       "  <tbody>\n",
       "    <tr>\n",
       "      <th>0</th>\n",
       "      <td>0.827377</td>\n",
       "      <td>-0.565736</td>\n",
       "      <td>0.432793</td>\n",
       "      <td>-0.473674</td>\n",
       "      <td>-0.502445</td>\n",
       "      <td>0.0</td>\n",
       "      <td>1.0</td>\n",
       "      <td>0.0</td>\n",
       "      <td>0.0</td>\n",
       "      <td>1.0</td>\n",
       "    </tr>\n",
       "    <tr>\n",
       "      <th>1</th>\n",
       "      <td>-1.566107</td>\n",
       "      <td>0.663861</td>\n",
       "      <td>0.432793</td>\n",
       "      <td>-0.473674</td>\n",
       "      <td>0.786845</td>\n",
       "      <td>1.0</td>\n",
       "      <td>0.0</td>\n",
       "      <td>1.0</td>\n",
       "      <td>0.0</td>\n",
       "      <td>0.0</td>\n",
       "    </tr>\n",
       "    <tr>\n",
       "      <th>2</th>\n",
       "      <td>0.827377</td>\n",
       "      <td>-0.258337</td>\n",
       "      <td>-0.474545</td>\n",
       "      <td>-0.473674</td>\n",
       "      <td>-0.488854</td>\n",
       "      <td>1.0</td>\n",
       "      <td>0.0</td>\n",
       "      <td>0.0</td>\n",
       "      <td>0.0</td>\n",
       "      <td>1.0</td>\n",
       "    </tr>\n",
       "    <tr>\n",
       "      <th>3</th>\n",
       "      <td>-1.566107</td>\n",
       "      <td>0.433312</td>\n",
       "      <td>0.432793</td>\n",
       "      <td>-0.473674</td>\n",
       "      <td>0.420730</td>\n",
       "      <td>1.0</td>\n",
       "      <td>0.0</td>\n",
       "      <td>0.0</td>\n",
       "      <td>0.0</td>\n",
       "      <td>1.0</td>\n",
       "    </tr>\n",
       "    <tr>\n",
       "      <th>4</th>\n",
       "      <td>0.827377</td>\n",
       "      <td>0.433312</td>\n",
       "      <td>-0.474545</td>\n",
       "      <td>-0.473674</td>\n",
       "      <td>-0.486337</td>\n",
       "      <td>0.0</td>\n",
       "      <td>1.0</td>\n",
       "      <td>0.0</td>\n",
       "      <td>0.0</td>\n",
       "      <td>1.0</td>\n",
       "    </tr>\n",
       "  </tbody>\n",
       "</table>\n",
       "</div>"
      ],
      "text/plain": [
       "   num__Pclass  num__Age  num__SibSp  num__Parch  num__Fare  cat__Sex_female  \\\n",
       "0     0.827377 -0.565736    0.432793   -0.473674  -0.502445              0.0   \n",
       "1    -1.566107  0.663861    0.432793   -0.473674   0.786845              1.0   \n",
       "2     0.827377 -0.258337   -0.474545   -0.473674  -0.488854              1.0   \n",
       "3    -1.566107  0.433312    0.432793   -0.473674   0.420730              1.0   \n",
       "4     0.827377  0.433312   -0.474545   -0.473674  -0.486337              0.0   \n",
       "\n",
       "   cat__Sex_male  cat__Embarked_C  cat__Embarked_Q  cat__Embarked_S  \n",
       "0            1.0              0.0              0.0              1.0  \n",
       "1            0.0              1.0              0.0              0.0  \n",
       "2            0.0              0.0              0.0              1.0  \n",
       "3            0.0              0.0              0.0              1.0  \n",
       "4            1.0              0.0              0.0              1.0  "
      ]
     },
     "execution_count": 23,
     "metadata": {},
     "output_type": "execute_result"
    }
   ],
   "source": [
    "x_pre=pd.DataFrame(x_pre,columns=cols)\n",
    "x_pre.head()"
   ]
  },
  {
   "cell_type": "markdown",
   "metadata": {},
   "source": [
    "Splitting the dataset"
   ]
  },
  {
   "cell_type": "code",
   "execution_count": 24,
   "metadata": {},
   "outputs": [],
   "source": [
    "from sklearn.model_selection import  train_test_split\n",
    "x_train,x_test,y_train,y_test=train_test_split(x_pre,y,test_size=0.2,random_state=42)"
   ]
  },
  {
   "cell_type": "code",
   "execution_count": 25,
   "metadata": {},
   "outputs": [
    {
     "data": {
      "text/plain": [
       "(712, 10)"
      ]
     },
     "execution_count": 25,
     "metadata": {},
     "output_type": "execute_result"
    }
   ],
   "source": [
    "x_train.shape"
   ]
  },
  {
   "cell_type": "code",
   "execution_count": 26,
   "metadata": {},
   "outputs": [
    {
     "data": {
      "text/plain": [
       "(179, 10)"
      ]
     },
     "execution_count": 26,
     "metadata": {},
     "output_type": "execute_result"
    }
   ],
   "source": [
    "x_test.shape"
   ]
  },
  {
   "cell_type": "markdown",
   "metadata": {},
   "source": [
    "Model creation"
   ]
  },
  {
   "cell_type": "code",
   "execution_count": 31,
   "metadata": {},
   "outputs": [
    {
     "data": {
      "text/html": [
       "<style>#sk-container-id-2 {color: black;}#sk-container-id-2 pre{padding: 0;}#sk-container-id-2 div.sk-toggleable {background-color: white;}#sk-container-id-2 label.sk-toggleable__label {cursor: pointer;display: block;width: 100%;margin-bottom: 0;padding: 0.3em;box-sizing: border-box;text-align: center;}#sk-container-id-2 label.sk-toggleable__label-arrow:before {content: \"▸\";float: left;margin-right: 0.25em;color: #696969;}#sk-container-id-2 label.sk-toggleable__label-arrow:hover:before {color: black;}#sk-container-id-2 div.sk-estimator:hover label.sk-toggleable__label-arrow:before {color: black;}#sk-container-id-2 div.sk-toggleable__content {max-height: 0;max-width: 0;overflow: hidden;text-align: left;background-color: #f0f8ff;}#sk-container-id-2 div.sk-toggleable__content pre {margin: 0.2em;color: black;border-radius: 0.25em;background-color: #f0f8ff;}#sk-container-id-2 input.sk-toggleable__control:checked~div.sk-toggleable__content {max-height: 200px;max-width: 100%;overflow: auto;}#sk-container-id-2 input.sk-toggleable__control:checked~label.sk-toggleable__label-arrow:before {content: \"▾\";}#sk-container-id-2 div.sk-estimator input.sk-toggleable__control:checked~label.sk-toggleable__label {background-color: #d4ebff;}#sk-container-id-2 div.sk-label input.sk-toggleable__control:checked~label.sk-toggleable__label {background-color: #d4ebff;}#sk-container-id-2 input.sk-hidden--visually {border: 0;clip: rect(1px 1px 1px 1px);clip: rect(1px, 1px, 1px, 1px);height: 1px;margin: -1px;overflow: hidden;padding: 0;position: absolute;width: 1px;}#sk-container-id-2 div.sk-estimator {font-family: monospace;background-color: #f0f8ff;border: 1px dotted black;border-radius: 0.25em;box-sizing: border-box;margin-bottom: 0.5em;}#sk-container-id-2 div.sk-estimator:hover {background-color: #d4ebff;}#sk-container-id-2 div.sk-parallel-item::after {content: \"\";width: 100%;border-bottom: 1px solid gray;flex-grow: 1;}#sk-container-id-2 div.sk-label:hover label.sk-toggleable__label {background-color: #d4ebff;}#sk-container-id-2 div.sk-serial::before {content: \"\";position: absolute;border-left: 1px solid gray;box-sizing: border-box;top: 0;bottom: 0;left: 50%;z-index: 0;}#sk-container-id-2 div.sk-serial {display: flex;flex-direction: column;align-items: center;background-color: white;padding-right: 0.2em;padding-left: 0.2em;position: relative;}#sk-container-id-2 div.sk-item {position: relative;z-index: 1;}#sk-container-id-2 div.sk-parallel {display: flex;align-items: stretch;justify-content: center;background-color: white;position: relative;}#sk-container-id-2 div.sk-item::before, #sk-container-id-2 div.sk-parallel-item::before {content: \"\";position: absolute;border-left: 1px solid gray;box-sizing: border-box;top: 0;bottom: 0;left: 50%;z-index: -1;}#sk-container-id-2 div.sk-parallel-item {display: flex;flex-direction: column;z-index: 1;position: relative;background-color: white;}#sk-container-id-2 div.sk-parallel-item:first-child::after {align-self: flex-end;width: 50%;}#sk-container-id-2 div.sk-parallel-item:last-child::after {align-self: flex-start;width: 50%;}#sk-container-id-2 div.sk-parallel-item:only-child::after {width: 0;}#sk-container-id-2 div.sk-dashed-wrapped {border: 1px dashed gray;margin: 0 0.4em 0.5em 0.4em;box-sizing: border-box;padding-bottom: 0.4em;background-color: white;}#sk-container-id-2 div.sk-label label {font-family: monospace;font-weight: bold;display: inline-block;line-height: 1.2em;}#sk-container-id-2 div.sk-label-container {text-align: center;}#sk-container-id-2 div.sk-container {/* jupyter's `normalize.less` sets `[hidden] { display: none; }` but bootstrap.min.css set `[hidden] { display: none !important; }` so we also need the `!important` here to be able to override the default hidden behavior on the sphinx rendered scikit-learn.org. See: https://github.com/scikit-learn/scikit-learn/issues/21755 */display: inline-block !important;position: relative;}#sk-container-id-2 div.sk-text-repr-fallback {display: none;}</style><div id=\"sk-container-id-2\" class=\"sk-top-container\"><div class=\"sk-text-repr-fallback\"><pre>GradientBoostingClassifier(learning_rate=0.001, max_depth=2,\n",
       "                           min_samples_split=5, n_estimators=1)</pre><b>In a Jupyter environment, please rerun this cell to show the HTML representation or trust the notebook. <br />On GitHub, the HTML representation is unable to render, please try loading this page with nbviewer.org.</b></div><div class=\"sk-container\" hidden><div class=\"sk-item\"><div class=\"sk-estimator sk-toggleable\"><input class=\"sk-toggleable__control sk-hidden--visually\" id=\"sk-estimator-id-2\" type=\"checkbox\" checked><label for=\"sk-estimator-id-2\" class=\"sk-toggleable__label sk-toggleable__label-arrow\">GradientBoostingClassifier</label><div class=\"sk-toggleable__content\"><pre>GradientBoostingClassifier(learning_rate=0.001, max_depth=2,\n",
       "                           min_samples_split=5, n_estimators=1)</pre></div></div></div></div></div>"
      ],
      "text/plain": [
       "GradientBoostingClassifier(learning_rate=0.001, max_depth=2,\n",
       "                           min_samples_split=5, n_estimators=1)"
      ]
     },
     "execution_count": 31,
     "metadata": {},
     "output_type": "execute_result"
    }
   ],
   "source": [
    "from sklearn.ensemble import GradientBoostingClassifier\n",
    "cls=GradientBoostingClassifier(n_estimators=1,learning_rate=0.001,min_samples_split=5,max_depth=2)\n",
    "cls.fit(x_train,y_train)"
   ]
  },
  {
   "cell_type": "code",
   "execution_count": 32,
   "metadata": {},
   "outputs": [
    {
     "data": {
      "text/plain": [
       "0.6235955056179775"
      ]
     },
     "execution_count": 32,
     "metadata": {},
     "output_type": "execute_result"
    }
   ],
   "source": [
    "cls.score(x_train,y_train)"
   ]
  },
  {
   "cell_type": "code",
   "execution_count": 33,
   "metadata": {},
   "outputs": [
    {
     "data": {
      "text/plain": [
       "0.5865921787709497"
      ]
     },
     "execution_count": 33,
     "metadata": {},
     "output_type": "execute_result"
    }
   ],
   "source": [
    "cls.score(x_test,y_test)"
   ]
  },
  {
   "cell_type": "markdown",
   "metadata": {},
   "source": [
    "Hyperparameter tuning"
   ]
  },
  {
   "cell_type": "code",
   "execution_count": 34,
   "metadata": {},
   "outputs": [],
   "source": [
    "params={\n",
    "    \"learning_rate\":[0.01,0.05,0.1,0.2],\n",
    "    \"n_estimators\":[10,50,100,200],\n",
    "    \"max_depth\":[2,3,4,5,6,7],\n",
    "    \"min_samples_split\":[5,6,7,8,9,10]\n",
    "    }"
   ]
  },
  {
   "cell_type": "code",
   "execution_count": 35,
   "metadata": {},
   "outputs": [
    {
     "data": {
      "text/html": [
       "<style>#sk-container-id-3 {color: black;}#sk-container-id-3 pre{padding: 0;}#sk-container-id-3 div.sk-toggleable {background-color: white;}#sk-container-id-3 label.sk-toggleable__label {cursor: pointer;display: block;width: 100%;margin-bottom: 0;padding: 0.3em;box-sizing: border-box;text-align: center;}#sk-container-id-3 label.sk-toggleable__label-arrow:before {content: \"▸\";float: left;margin-right: 0.25em;color: #696969;}#sk-container-id-3 label.sk-toggleable__label-arrow:hover:before {color: black;}#sk-container-id-3 div.sk-estimator:hover label.sk-toggleable__label-arrow:before {color: black;}#sk-container-id-3 div.sk-toggleable__content {max-height: 0;max-width: 0;overflow: hidden;text-align: left;background-color: #f0f8ff;}#sk-container-id-3 div.sk-toggleable__content pre {margin: 0.2em;color: black;border-radius: 0.25em;background-color: #f0f8ff;}#sk-container-id-3 input.sk-toggleable__control:checked~div.sk-toggleable__content {max-height: 200px;max-width: 100%;overflow: auto;}#sk-container-id-3 input.sk-toggleable__control:checked~label.sk-toggleable__label-arrow:before {content: \"▾\";}#sk-container-id-3 div.sk-estimator input.sk-toggleable__control:checked~label.sk-toggleable__label {background-color: #d4ebff;}#sk-container-id-3 div.sk-label input.sk-toggleable__control:checked~label.sk-toggleable__label {background-color: #d4ebff;}#sk-container-id-3 input.sk-hidden--visually {border: 0;clip: rect(1px 1px 1px 1px);clip: rect(1px, 1px, 1px, 1px);height: 1px;margin: -1px;overflow: hidden;padding: 0;position: absolute;width: 1px;}#sk-container-id-3 div.sk-estimator {font-family: monospace;background-color: #f0f8ff;border: 1px dotted black;border-radius: 0.25em;box-sizing: border-box;margin-bottom: 0.5em;}#sk-container-id-3 div.sk-estimator:hover {background-color: #d4ebff;}#sk-container-id-3 div.sk-parallel-item::after {content: \"\";width: 100%;border-bottom: 1px solid gray;flex-grow: 1;}#sk-container-id-3 div.sk-label:hover label.sk-toggleable__label {background-color: #d4ebff;}#sk-container-id-3 div.sk-serial::before {content: \"\";position: absolute;border-left: 1px solid gray;box-sizing: border-box;top: 0;bottom: 0;left: 50%;z-index: 0;}#sk-container-id-3 div.sk-serial {display: flex;flex-direction: column;align-items: center;background-color: white;padding-right: 0.2em;padding-left: 0.2em;position: relative;}#sk-container-id-3 div.sk-item {position: relative;z-index: 1;}#sk-container-id-3 div.sk-parallel {display: flex;align-items: stretch;justify-content: center;background-color: white;position: relative;}#sk-container-id-3 div.sk-item::before, #sk-container-id-3 div.sk-parallel-item::before {content: \"\";position: absolute;border-left: 1px solid gray;box-sizing: border-box;top: 0;bottom: 0;left: 50%;z-index: -1;}#sk-container-id-3 div.sk-parallel-item {display: flex;flex-direction: column;z-index: 1;position: relative;background-color: white;}#sk-container-id-3 div.sk-parallel-item:first-child::after {align-self: flex-end;width: 50%;}#sk-container-id-3 div.sk-parallel-item:last-child::after {align-self: flex-start;width: 50%;}#sk-container-id-3 div.sk-parallel-item:only-child::after {width: 0;}#sk-container-id-3 div.sk-dashed-wrapped {border: 1px dashed gray;margin: 0 0.4em 0.5em 0.4em;box-sizing: border-box;padding-bottom: 0.4em;background-color: white;}#sk-container-id-3 div.sk-label label {font-family: monospace;font-weight: bold;display: inline-block;line-height: 1.2em;}#sk-container-id-3 div.sk-label-container {text-align: center;}#sk-container-id-3 div.sk-container {/* jupyter's `normalize.less` sets `[hidden] { display: none; }` but bootstrap.min.css set `[hidden] { display: none !important; }` so we also need the `!important` here to be able to override the default hidden behavior on the sphinx rendered scikit-learn.org. See: https://github.com/scikit-learn/scikit-learn/issues/21755 */display: inline-block !important;position: relative;}#sk-container-id-3 div.sk-text-repr-fallback {display: none;}</style><div id=\"sk-container-id-3\" class=\"sk-top-container\"><div class=\"sk-text-repr-fallback\"><pre>RandomizedSearchCV(cv=5, estimator=GradientBoostingClassifier(),\n",
       "                   param_distributions={&#x27;learning_rate&#x27;: [0.01, 0.05, 0.1, 0.2],\n",
       "                                        &#x27;max_depth&#x27;: [2, 3, 4, 5, 6, 7],\n",
       "                                        &#x27;min_samples_split&#x27;: [5, 6, 7, 8, 9,\n",
       "                                                              10],\n",
       "                                        &#x27;n_estimators&#x27;: [10, 50, 100, 200]},\n",
       "                   scoring=&#x27;f1_macro&#x27;)</pre><b>In a Jupyter environment, please rerun this cell to show the HTML representation or trust the notebook. <br />On GitHub, the HTML representation is unable to render, please try loading this page with nbviewer.org.</b></div><div class=\"sk-container\" hidden><div class=\"sk-item sk-dashed-wrapped\"><div class=\"sk-label-container\"><div class=\"sk-label sk-toggleable\"><input class=\"sk-toggleable__control sk-hidden--visually\" id=\"sk-estimator-id-3\" type=\"checkbox\" ><label for=\"sk-estimator-id-3\" class=\"sk-toggleable__label sk-toggleable__label-arrow\">RandomizedSearchCV</label><div class=\"sk-toggleable__content\"><pre>RandomizedSearchCV(cv=5, estimator=GradientBoostingClassifier(),\n",
       "                   param_distributions={&#x27;learning_rate&#x27;: [0.01, 0.05, 0.1, 0.2],\n",
       "                                        &#x27;max_depth&#x27;: [2, 3, 4, 5, 6, 7],\n",
       "                                        &#x27;min_samples_split&#x27;: [5, 6, 7, 8, 9,\n",
       "                                                              10],\n",
       "                                        &#x27;n_estimators&#x27;: [10, 50, 100, 200]},\n",
       "                   scoring=&#x27;f1_macro&#x27;)</pre></div></div></div><div class=\"sk-parallel\"><div class=\"sk-parallel-item\"><div class=\"sk-item\"><div class=\"sk-label-container\"><div class=\"sk-label sk-toggleable\"><input class=\"sk-toggleable__control sk-hidden--visually\" id=\"sk-estimator-id-4\" type=\"checkbox\" ><label for=\"sk-estimator-id-4\" class=\"sk-toggleable__label sk-toggleable__label-arrow\">estimator: GradientBoostingClassifier</label><div class=\"sk-toggleable__content\"><pre>GradientBoostingClassifier()</pre></div></div></div><div class=\"sk-serial\"><div class=\"sk-item\"><div class=\"sk-estimator sk-toggleable\"><input class=\"sk-toggleable__control sk-hidden--visually\" id=\"sk-estimator-id-5\" type=\"checkbox\" ><label for=\"sk-estimator-id-5\" class=\"sk-toggleable__label sk-toggleable__label-arrow\">GradientBoostingClassifier</label><div class=\"sk-toggleable__content\"><pre>GradientBoostingClassifier()</pre></div></div></div></div></div></div></div></div></div></div>"
      ],
      "text/plain": [
       "RandomizedSearchCV(cv=5, estimator=GradientBoostingClassifier(),\n",
       "                   param_distributions={'learning_rate': [0.01, 0.05, 0.1, 0.2],\n",
       "                                        'max_depth': [2, 3, 4, 5, 6, 7],\n",
       "                                        'min_samples_split': [5, 6, 7, 8, 9,\n",
       "                                                              10],\n",
       "                                        'n_estimators': [10, 50, 100, 200]},\n",
       "                   scoring='f1_macro')"
      ]
     },
     "execution_count": 35,
     "metadata": {},
     "output_type": "execute_result"
    }
   ],
   "source": [
    "from sklearn.model_selection import RandomizedSearchCV\n",
    "model=GradientBoostingClassifier()\n",
    "rscv=RandomizedSearchCV(model,param_distributions=params,cv=5,scoring=\"f1_macro\")\n",
    "rscv.fit(x_train,y_train)"
   ]
  },
  {
   "cell_type": "code",
   "execution_count": 36,
   "metadata": {},
   "outputs": [
    {
     "data": {
      "text/plain": [
       "{'n_estimators': 10,\n",
       " 'min_samples_split': 9,\n",
       " 'max_depth': 7,\n",
       " 'learning_rate': 0.1}"
      ]
     },
     "execution_count": 36,
     "metadata": {},
     "output_type": "execute_result"
    }
   ],
   "source": [
    "rscv.best_params_"
   ]
  },
  {
   "cell_type": "code",
   "execution_count": 37,
   "metadata": {},
   "outputs": [
    {
     "data": {
      "text/plain": [
       "0.8019514780783131"
      ]
     },
     "execution_count": 37,
     "metadata": {},
     "output_type": "execute_result"
    }
   ],
   "source": [
    "rscv.best_score_"
   ]
  },
  {
   "cell_type": "code",
   "execution_count": 38,
   "metadata": {},
   "outputs": [
    {
     "data": {
      "text/html": [
       "<style>#sk-container-id-4 {color: black;}#sk-container-id-4 pre{padding: 0;}#sk-container-id-4 div.sk-toggleable {background-color: white;}#sk-container-id-4 label.sk-toggleable__label {cursor: pointer;display: block;width: 100%;margin-bottom: 0;padding: 0.3em;box-sizing: border-box;text-align: center;}#sk-container-id-4 label.sk-toggleable__label-arrow:before {content: \"▸\";float: left;margin-right: 0.25em;color: #696969;}#sk-container-id-4 label.sk-toggleable__label-arrow:hover:before {color: black;}#sk-container-id-4 div.sk-estimator:hover label.sk-toggleable__label-arrow:before {color: black;}#sk-container-id-4 div.sk-toggleable__content {max-height: 0;max-width: 0;overflow: hidden;text-align: left;background-color: #f0f8ff;}#sk-container-id-4 div.sk-toggleable__content pre {margin: 0.2em;color: black;border-radius: 0.25em;background-color: #f0f8ff;}#sk-container-id-4 input.sk-toggleable__control:checked~div.sk-toggleable__content {max-height: 200px;max-width: 100%;overflow: auto;}#sk-container-id-4 input.sk-toggleable__control:checked~label.sk-toggleable__label-arrow:before {content: \"▾\";}#sk-container-id-4 div.sk-estimator input.sk-toggleable__control:checked~label.sk-toggleable__label {background-color: #d4ebff;}#sk-container-id-4 div.sk-label input.sk-toggleable__control:checked~label.sk-toggleable__label {background-color: #d4ebff;}#sk-container-id-4 input.sk-hidden--visually {border: 0;clip: rect(1px 1px 1px 1px);clip: rect(1px, 1px, 1px, 1px);height: 1px;margin: -1px;overflow: hidden;padding: 0;position: absolute;width: 1px;}#sk-container-id-4 div.sk-estimator {font-family: monospace;background-color: #f0f8ff;border: 1px dotted black;border-radius: 0.25em;box-sizing: border-box;margin-bottom: 0.5em;}#sk-container-id-4 div.sk-estimator:hover {background-color: #d4ebff;}#sk-container-id-4 div.sk-parallel-item::after {content: \"\";width: 100%;border-bottom: 1px solid gray;flex-grow: 1;}#sk-container-id-4 div.sk-label:hover label.sk-toggleable__label {background-color: #d4ebff;}#sk-container-id-4 div.sk-serial::before {content: \"\";position: absolute;border-left: 1px solid gray;box-sizing: border-box;top: 0;bottom: 0;left: 50%;z-index: 0;}#sk-container-id-4 div.sk-serial {display: flex;flex-direction: column;align-items: center;background-color: white;padding-right: 0.2em;padding-left: 0.2em;position: relative;}#sk-container-id-4 div.sk-item {position: relative;z-index: 1;}#sk-container-id-4 div.sk-parallel {display: flex;align-items: stretch;justify-content: center;background-color: white;position: relative;}#sk-container-id-4 div.sk-item::before, #sk-container-id-4 div.sk-parallel-item::before {content: \"\";position: absolute;border-left: 1px solid gray;box-sizing: border-box;top: 0;bottom: 0;left: 50%;z-index: -1;}#sk-container-id-4 div.sk-parallel-item {display: flex;flex-direction: column;z-index: 1;position: relative;background-color: white;}#sk-container-id-4 div.sk-parallel-item:first-child::after {align-self: flex-end;width: 50%;}#sk-container-id-4 div.sk-parallel-item:last-child::after {align-self: flex-start;width: 50%;}#sk-container-id-4 div.sk-parallel-item:only-child::after {width: 0;}#sk-container-id-4 div.sk-dashed-wrapped {border: 1px dashed gray;margin: 0 0.4em 0.5em 0.4em;box-sizing: border-box;padding-bottom: 0.4em;background-color: white;}#sk-container-id-4 div.sk-label label {font-family: monospace;font-weight: bold;display: inline-block;line-height: 1.2em;}#sk-container-id-4 div.sk-label-container {text-align: center;}#sk-container-id-4 div.sk-container {/* jupyter's `normalize.less` sets `[hidden] { display: none; }` but bootstrap.min.css set `[hidden] { display: none !important; }` so we also need the `!important` here to be able to override the default hidden behavior on the sphinx rendered scikit-learn.org. See: https://github.com/scikit-learn/scikit-learn/issues/21755 */display: inline-block !important;position: relative;}#sk-container-id-4 div.sk-text-repr-fallback {display: none;}</style><div id=\"sk-container-id-4\" class=\"sk-top-container\"><div class=\"sk-text-repr-fallback\"><pre>GradientBoostingClassifier(max_depth=7, min_samples_split=9, n_estimators=10)</pre><b>In a Jupyter environment, please rerun this cell to show the HTML representation or trust the notebook. <br />On GitHub, the HTML representation is unable to render, please try loading this page with nbviewer.org.</b></div><div class=\"sk-container\" hidden><div class=\"sk-item\"><div class=\"sk-estimator sk-toggleable\"><input class=\"sk-toggleable__control sk-hidden--visually\" id=\"sk-estimator-id-6\" type=\"checkbox\" checked><label for=\"sk-estimator-id-6\" class=\"sk-toggleable__label sk-toggleable__label-arrow\">GradientBoostingClassifier</label><div class=\"sk-toggleable__content\"><pre>GradientBoostingClassifier(max_depth=7, min_samples_split=9, n_estimators=10)</pre></div></div></div></div></div>"
      ],
      "text/plain": [
       "GradientBoostingClassifier(max_depth=7, min_samples_split=9, n_estimators=10)"
      ]
     },
     "execution_count": 38,
     "metadata": {},
     "output_type": "execute_result"
    }
   ],
   "source": [
    "best_model=rscv.best_estimator_\n",
    "best_model"
   ]
  },
  {
   "cell_type": "markdown",
   "metadata": {},
   "source": [
    "Evaluate model performance"
   ]
  },
  {
   "cell_type": "code",
   "execution_count": 39,
   "metadata": {},
   "outputs": [
    {
     "data": {
      "text/plain": [
       "0.8960674157303371"
      ]
     },
     "execution_count": 39,
     "metadata": {},
     "output_type": "execute_result"
    }
   ],
   "source": [
    "best_model.score(x_train,y_train)"
   ]
  },
  {
   "cell_type": "code",
   "execution_count": 40,
   "metadata": {},
   "outputs": [
    {
     "data": {
      "text/plain": [
       "0.8268156424581006"
      ]
     },
     "execution_count": 40,
     "metadata": {},
     "output_type": "execute_result"
    }
   ],
   "source": [
    "best_model.score(x_test,y_test)"
   ]
  },
  {
   "cell_type": "markdown",
   "metadata": {},
   "source": [
    "Predict result"
   ]
  },
  {
   "cell_type": "code",
   "execution_count": 41,
   "metadata": {},
   "outputs": [
    {
     "data": {
      "text/plain": [
       "array([0, 0, 0, 0, 0], dtype=int64)"
      ]
     },
     "execution_count": 41,
     "metadata": {},
     "output_type": "execute_result"
    }
   ],
   "source": [
    "y_pred_tr=best_model.predict(x_train)\n",
    "y_pred_tr[:5]"
   ]
  },
  {
   "cell_type": "code",
   "execution_count": 42,
   "metadata": {},
   "outputs": [
    {
     "data": {
      "text/plain": [
       "array([0, 0, 0, 1, 1], dtype=int64)"
      ]
     },
     "execution_count": 42,
     "metadata": {},
     "output_type": "execute_result"
    }
   ],
   "source": [
    "y_pred_ts=best_model.predict(x_test)\n",
    "y_pred_ts[:5]"
   ]
  },
  {
   "cell_type": "markdown",
   "metadata": {},
   "source": [
    "Display Confusion matrix\n"
   ]
  },
  {
   "cell_type": "code",
   "execution_count": 44,
   "metadata": {},
   "outputs": [
    {
     "data": {
      "text/plain": [
       "<sklearn.metrics._plot.confusion_matrix.ConfusionMatrixDisplay at 0x16b5c6742d0>"
      ]
     },
     "execution_count": 44,
     "metadata": {},
     "output_type": "execute_result"
    },
    {
     "data": {
      "image/png": "[encoded data removed]",
      "text/plain": [
       "<Figure size 640x480 with 2 Axes>"
      ]
     },
     "metadata": {},
     "output_type": "display_data"
    }
   ],
   "source": [
    "from sklearn.metrics import *\n",
    "cm=confusion_matrix(y_train,y_pred_tr)\n",
    "cmd=ConfusionMatrixDisplay(cm,display_labels=best_model.classes_)\n",
    "cmd.plot()"
   ]
  },
  {
   "cell_type": "markdown",
   "metadata": {},
   "source": [
    "Display Classification report"
   ]
  },
  {
   "cell_type": "code",
   "execution_count": 45,
   "metadata": {},
   "outputs": [
    {
     "name": "stdout",
     "output_type": "stream",
     "text": [
      "              precision    recall  f1-score   support\n",
      "\n",
      "           0       0.87      0.98      0.92       444\n",
      "           1       0.97      0.75      0.84       268\n",
      "\n",
      "    accuracy                           0.90       712\n",
      "   macro avg       0.92      0.87      0.88       712\n",
      "weighted avg       0.90      0.90      0.89       712\n",
      "\n"
     ]
    }
   ],
   "source": [
    "print(classification_report(y_train,y_pred_tr))"
   ]
  },
  {
   "cell_type": "markdown",
   "metadata": {},
   "source": [
    "Predict new data\n"
   ]
  },
  {
   "cell_type": "code",
   "execution_count": 46,
   "metadata": {},
   "outputs": [
    {
     "data": {
      "text/html": [
       "<div>\n",
       "<style scoped>\n",
       "    .dataframe tbody tr th:only-of-type {\n",
       "        vertical-align: middle;\n",
       "    }\n",
       "\n",
       "    .dataframe tbody tr th {\n",
       "        vertical-align: top;\n",
       "    }\n",
       "\n",
       "    .dataframe thead th {\n",
       "        text-align: right;\n",
       "    }\n",
       "</style>\n",
       "<table border=\"1\" class=\"dataframe\">\n",
       "  <thead>\n",
       "    <tr style=\"text-align: right;\">\n",
       "      <th></th>\n",
       "      <th>PassengerId</th>\n",
       "      <th>Pclass</th>\n",
       "      <th>Name</th>\n",
       "      <th>Sex</th>\n",
       "      <th>Age</th>\n",
       "      <th>SibSp</th>\n",
       "      <th>Parch</th>\n",
       "      <th>Ticket</th>\n",
       "      <th>Fare</th>\n",
       "      <th>Cabin</th>\n",
       "      <th>Embarked</th>\n",
       "    </tr>\n",
       "  </thead>\n",
       "  <tbody>\n",
       "    <tr>\n",
       "      <th>0</th>\n",
       "      <td>892</td>\n",
       "      <td>3</td>\n",
       "      <td>Kelly, Mr. James</td>\n",
       "      <td>male</td>\n",
       "      <td>34.5</td>\n",
       "      <td>0</td>\n",
       "      <td>0</td>\n",
       "      <td>330911</td>\n",
       "      <td>7.8292</td>\n",
       "      <td>NaN</td>\n",
       "      <td>Q</td>\n",
       "    </tr>\n",
       "    <tr>\n",
       "      <th>1</th>\n",
       "      <td>893</td>\n",
       "      <td>3</td>\n",
       "      <td>Wilkes, Mrs. James (Ellen Needs)</td>\n",
       "      <td>female</td>\n",
       "      <td>47.0</td>\n",
       "      <td>1</td>\n",
       "      <td>0</td>\n",
       "      <td>363272</td>\n",
       "      <td>7.0000</td>\n",
       "      <td>NaN</td>\n",
       "      <td>S</td>\n",
       "    </tr>\n",
       "    <tr>\n",
       "      <th>2</th>\n",
       "      <td>894</td>\n",
       "      <td>2</td>\n",
       "      <td>Myles, Mr. Thomas Francis</td>\n",
       "      <td>male</td>\n",
       "      <td>62.0</td>\n",
       "      <td>0</td>\n",
       "      <td>0</td>\n",
       "      <td>240276</td>\n",
       "      <td>9.6875</td>\n",
       "      <td>NaN</td>\n",
       "      <td>Q</td>\n",
       "    </tr>\n",
       "    <tr>\n",
       "      <th>3</th>\n",
       "      <td>895</td>\n",
       "      <td>3</td>\n",
       "      <td>Wirz, Mr. Albert</td>\n",
       "      <td>male</td>\n",
       "      <td>27.0</td>\n",
       "      <td>0</td>\n",
       "      <td>0</td>\n",
       "      <td>315154</td>\n",
       "      <td>8.6625</td>\n",
       "      <td>NaN</td>\n",
       "      <td>S</td>\n",
       "    </tr>\n",
       "    <tr>\n",
       "      <th>4</th>\n",
       "      <td>896</td>\n",
       "      <td>3</td>\n",
       "      <td>Hirvonen, Mrs. Alexander (Helga E Lindqvist)</td>\n",
       "      <td>female</td>\n",
       "      <td>22.0</td>\n",
       "      <td>1</td>\n",
       "      <td>1</td>\n",
       "      <td>3101298</td>\n",
       "      <td>12.2875</td>\n",
       "      <td>NaN</td>\n",
       "      <td>S</td>\n",
       "    </tr>\n",
       "  </tbody>\n",
       "</table>\n",
       "</div>"
      ],
      "text/plain": [
       "   PassengerId  Pclass                                          Name     Sex  \\\n",
       "0          892       3                              Kelly, Mr. James    male   \n",
       "1          893       3              Wilkes, Mrs. James (Ellen Needs)  female   \n",
       "2          894       2                     Myles, Mr. Thomas Francis    male   \n",
       "3          895       3                              Wirz, Mr. Albert    male   \n",
       "4          896       3  Hirvonen, Mrs. Alexander (Helga E Lindqvist)  female   \n",
       "\n",
       "    Age  SibSp  Parch   Ticket     Fare Cabin Embarked  \n",
       "0  34.5      0      0   330911   7.8292   NaN        Q  \n",
       "1  47.0      1      0   363272   7.0000   NaN        S  \n",
       "2  62.0      0      0   240276   9.6875   NaN        Q  \n",
       "3  27.0      0      0   315154   8.6625   NaN        S  \n",
       "4  22.0      1      1  3101298  12.2875   NaN        S  "
      ]
     },
     "execution_count": 46,
     "metadata": {},
     "output_type": "execute_result"
    }
   ],
   "source": [
    "x_new=pd.read_csv(\"test_titanic.csv\")\n",
    "x_new.head()"
   ]
  },
  {
   "cell_type": "code",
   "execution_count": 47,
   "metadata": {},
   "outputs": [
    {
     "data": {
      "text/plain": [
       "array([[ 0.82737724,  0.39488658, -0.4745452 , ...,  0.        ,\n",
       "         1.        ,  0.        ],\n",
       "       [ 0.82737724,  1.35550962,  0.43279337, ...,  0.        ,\n",
       "         0.        ,  1.        ],\n",
       "       [-0.36936484,  2.50825727, -0.4745452 , ...,  0.        ,\n",
       "         1.        ,  0.        ],\n",
       "       ...,\n",
       "       [ 0.82737724,  0.70228595, -0.4745452 , ...,  0.        ,\n",
       "         0.        ,  1.        ],\n",
       "       [ 0.82737724, -0.1046374 , -0.4745452 , ...,  0.        ,\n",
       "         0.        ,  1.        ],\n",
       "       [ 0.82737724, -0.1046374 ,  0.43279337, ...,  1.        ,\n",
       "         0.        ,  0.        ]])"
      ]
     },
     "execution_count": 47,
     "metadata": {},
     "output_type": "execute_result"
    }
   ],
   "source": [
    "x_new_pre=pre.transform(x_new)\n",
    "x_new_pre"
   ]
  },
  {
   "cell_type": "code",
   "execution_count": 48,
   "metadata": {},
   "outputs": [
    {
     "data": {
      "text/html": [
       "<div>\n",
       "<style scoped>\n",
       "    .dataframe tbody tr th:only-of-type {\n",
       "        vertical-align: middle;\n",
       "    }\n",
       "\n",
       "    .dataframe tbody tr th {\n",
       "        vertical-align: top;\n",
       "    }\n",
       "\n",
       "    .dataframe thead th {\n",
       "        text-align: right;\n",
       "    }\n",
       "</style>\n",
       "<table border=\"1\" class=\"dataframe\">\n",
       "  <thead>\n",
       "    <tr style=\"text-align: right;\">\n",
       "      <th></th>\n",
       "      <th>num__Pclass</th>\n",
       "      <th>num__Age</th>\n",
       "      <th>num__SibSp</th>\n",
       "      <th>num__Parch</th>\n",
       "      <th>num__Fare</th>\n",
       "      <th>cat__Sex_female</th>\n",
       "      <th>cat__Sex_male</th>\n",
       "      <th>cat__Embarked_C</th>\n",
       "      <th>cat__Embarked_Q</th>\n",
       "      <th>cat__Embarked_S</th>\n",
       "    </tr>\n",
       "  </thead>\n",
       "  <tbody>\n",
       "    <tr>\n",
       "      <th>0</th>\n",
       "      <td>0.827377</td>\n",
       "      <td>0.394887</td>\n",
       "      <td>-0.474545</td>\n",
       "      <td>-0.473674</td>\n",
       "      <td>-0.490783</td>\n",
       "      <td>0.0</td>\n",
       "      <td>1.0</td>\n",
       "      <td>0.0</td>\n",
       "      <td>1.0</td>\n",
       "      <td>0.0</td>\n",
       "    </tr>\n",
       "    <tr>\n",
       "      <th>1</th>\n",
       "      <td>0.827377</td>\n",
       "      <td>1.355510</td>\n",
       "      <td>0.432793</td>\n",
       "      <td>-0.473674</td>\n",
       "      <td>-0.507479</td>\n",
       "      <td>1.0</td>\n",
       "      <td>0.0</td>\n",
       "      <td>0.0</td>\n",
       "      <td>0.0</td>\n",
       "      <td>1.0</td>\n",
       "    </tr>\n",
       "    <tr>\n",
       "      <th>2</th>\n",
       "      <td>-0.369365</td>\n",
       "      <td>2.508257</td>\n",
       "      <td>-0.474545</td>\n",
       "      <td>-0.473674</td>\n",
       "      <td>-0.453367</td>\n",
       "      <td>0.0</td>\n",
       "      <td>1.0</td>\n",
       "      <td>0.0</td>\n",
       "      <td>1.0</td>\n",
       "      <td>0.0</td>\n",
       "    </tr>\n",
       "    <tr>\n",
       "      <th>3</th>\n",
       "      <td>0.827377</td>\n",
       "      <td>-0.181487</td>\n",
       "      <td>-0.474545</td>\n",
       "      <td>-0.473674</td>\n",
       "      <td>-0.474005</td>\n",
       "      <td>0.0</td>\n",
       "      <td>1.0</td>\n",
       "      <td>0.0</td>\n",
       "      <td>0.0</td>\n",
       "      <td>1.0</td>\n",
       "    </tr>\n",
       "    <tr>\n",
       "      <th>4</th>\n",
       "      <td>0.827377</td>\n",
       "      <td>-0.565736</td>\n",
       "      <td>0.432793</td>\n",
       "      <td>0.767630</td>\n",
       "      <td>-0.401017</td>\n",
       "      <td>1.0</td>\n",
       "      <td>0.0</td>\n",
       "      <td>0.0</td>\n",
       "      <td>0.0</td>\n",
       "      <td>1.0</td>\n",
       "    </tr>\n",
       "  </tbody>\n",
       "</table>\n",
       "</div>"
      ],
      "text/plain": [
       "   num__Pclass  num__Age  num__SibSp  num__Parch  num__Fare  cat__Sex_female  \\\n",
       "0     0.827377  0.394887   -0.474545   -0.473674  -0.490783              0.0   \n",
       "1     0.827377  1.355510    0.432793   -0.473674  -0.507479              1.0   \n",
       "2    -0.369365  2.508257   -0.474545   -0.473674  -0.453367              0.0   \n",
       "3     0.827377 -0.181487   -0.474545   -0.473674  -0.474005              0.0   \n",
       "4     0.827377 -0.565736    0.432793    0.767630  -0.401017              1.0   \n",
       "\n",
       "   cat__Sex_male  cat__Embarked_C  cat__Embarked_Q  cat__Embarked_S  \n",
       "0            1.0              0.0              1.0              0.0  \n",
       "1            0.0              0.0              0.0              1.0  \n",
       "2            1.0              0.0              1.0              0.0  \n",
       "3            1.0              0.0              0.0              1.0  \n",
       "4            0.0              0.0              0.0              1.0  "
      ]
     },
     "execution_count": 48,
     "metadata": {},
     "output_type": "execute_result"
    }
   ],
   "source": [
    "x_new_pre=pd.DataFrame(x_new_pre,columns=cols)\n",
    "x_new_pre.head()"
   ]
  },
  {
   "cell_type": "code",
   "execution_count": 49,
   "metadata": {},
   "outputs": [
    {
     "data": {
      "text/plain": [
       "array([0, 1, 0, 0, 1], dtype=int64)"
      ]
     },
     "execution_count": 49,
     "metadata": {},
     "output_type": "execute_result"
    }
   ],
   "source": [
    "pred=best_model.predict(x_new_pre)\n",
    "pred[:5]"
   ]
  },
  {
   "cell_type": "code",
   "execution_count": 50,
   "metadata": {},
   "outputs": [],
   "source": [
    "x_new[\"Predict\"]=pred"
   ]
  },
  {
   "cell_type": "code",
   "execution_count": 51,
   "metadata": {},
   "outputs": [
    {
     "data": {
      "text/html": [
       "<div>\n",
       "<style scoped>\n",
       "    .dataframe tbody tr th:only-of-type {\n",
       "        vertical-align: middle;\n",
       "    }\n",
       "\n",
       "    .dataframe tbody tr th {\n",
       "        vertical-align: top;\n",
       "    }\n",
       "\n",
       "    .dataframe thead th {\n",
       "        text-align: right;\n",
       "    }\n",
       "</style>\n",
       "<table border=\"1\" class=\"dataframe\">\n",
       "  <thead>\n",
       "    <tr style=\"text-align: right;\">\n",
       "      <th></th>\n",
       "      <th>PassengerId</th>\n",
       "      <th>Pclass</th>\n",
       "      <th>Name</th>\n",
       "      <th>Sex</th>\n",
       "      <th>Age</th>\n",
       "      <th>SibSp</th>\n",
       "      <th>Parch</th>\n",
       "      <th>Ticket</th>\n",
       "      <th>Fare</th>\n",
       "      <th>Cabin</th>\n",
       "      <th>Embarked</th>\n",
       "      <th>Predict</th>\n",
       "    </tr>\n",
       "  </thead>\n",
       "  <tbody>\n",
       "    <tr>\n",
       "      <th>0</th>\n",
       "      <td>892</td>\n",
       "      <td>3</td>\n",
       "      <td>Kelly, Mr. James</td>\n",
       "      <td>male</td>\n",
       "      <td>34.5</td>\n",
       "      <td>0</td>\n",
       "      <td>0</td>\n",
       "      <td>330911</td>\n",
       "      <td>7.8292</td>\n",
       "      <td>NaN</td>\n",
       "      <td>Q</td>\n",
       "      <td>0</td>\n",
       "    </tr>\n",
       "    <tr>\n",
       "      <th>1</th>\n",
       "      <td>893</td>\n",
       "      <td>3</td>\n",
       "      <td>Wilkes, Mrs. James (Ellen Needs)</td>\n",
       "      <td>female</td>\n",
       "      <td>47.0</td>\n",
       "      <td>1</td>\n",
       "      <td>0</td>\n",
       "      <td>363272</td>\n",
       "      <td>7.0000</td>\n",
       "      <td>NaN</td>\n",
       "      <td>S</td>\n",
       "      <td>1</td>\n",
       "    </tr>\n",
       "    <tr>\n",
       "      <th>2</th>\n",
       "      <td>894</td>\n",
       "      <td>2</td>\n",
       "      <td>Myles, Mr. Thomas Francis</td>\n",
       "      <td>male</td>\n",
       "      <td>62.0</td>\n",
       "      <td>0</td>\n",
       "      <td>0</td>\n",
       "      <td>240276</td>\n",
       "      <td>9.6875</td>\n",
       "      <td>NaN</td>\n",
       "      <td>Q</td>\n",
       "      <td>0</td>\n",
       "    </tr>\n",
       "    <tr>\n",
       "      <th>3</th>\n",
       "      <td>895</td>\n",
       "      <td>3</td>\n",
       "      <td>Wirz, Mr. Albert</td>\n",
       "      <td>male</td>\n",
       "      <td>27.0</td>\n",
       "      <td>0</td>\n",
       "      <td>0</td>\n",
       "      <td>315154</td>\n",
       "      <td>8.6625</td>\n",
       "      <td>NaN</td>\n",
       "      <td>S</td>\n",
       "      <td>0</td>\n",
       "    </tr>\n",
       "    <tr>\n",
       "      <th>4</th>\n",
       "      <td>896</td>\n",
       "      <td>3</td>\n",
       "      <td>Hirvonen, Mrs. Alexander (Helga E Lindqvist)</td>\n",
       "      <td>female</td>\n",
       "      <td>22.0</td>\n",
       "      <td>1</td>\n",
       "      <td>1</td>\n",
       "      <td>3101298</td>\n",
       "      <td>12.2875</td>\n",
       "      <td>NaN</td>\n",
       "      <td>S</td>\n",
       "      <td>1</td>\n",
       "    </tr>\n",
       "  </tbody>\n",
       "</table>\n",
       "</div>"
      ],
      "text/plain": [
       "   PassengerId  Pclass                                          Name     Sex  \\\n",
       "0          892       3                              Kelly, Mr. James    male   \n",
       "1          893       3              Wilkes, Mrs. James (Ellen Needs)  female   \n",
       "2          894       2                     Myles, Mr. Thomas Francis    male   \n",
       "3          895       3                              Wirz, Mr. Albert    male   \n",
       "4          896       3  Hirvonen, Mrs. Alexander (Helga E Lindqvist)  female   \n",
       "\n",
       "    Age  SibSp  Parch   Ticket     Fare Cabin Embarked  Predict  \n",
       "0  34.5      0      0   330911   7.8292   NaN        Q        0  \n",
       "1  47.0      1      0   363272   7.0000   NaN        S        1  \n",
       "2  62.0      0      0   240276   9.6875   NaN        Q        0  \n",
       "3  27.0      0      0   315154   8.6625   NaN        S        0  \n",
       "4  22.0      1      1  3101298  12.2875   NaN        S        1  "
      ]
     },
     "execution_count": 51,
     "metadata": {},
     "output_type": "execute_result"
    }
   ],
   "source": [
    "x_new.head()"
   ]
  },
  {
   "cell_type": "markdown",
   "metadata": {},
   "source": [
    "Display probabilities"
   ]
  },
  {
   "cell_type": "code",
   "execution_count": 52,
   "metadata": {},
   "outputs": [
    {
     "data": {
      "text/plain": [
       "array([[0.82783435, 0.17216565],\n",
       "       [0.41555368, 0.58444632],\n",
       "       [0.67697239, 0.32302761],\n",
       "       [0.80009365, 0.19990635],\n",
       "       [0.32695764, 0.67304236],\n",
       "       [0.80009365, 0.19990635],\n",
       "       [0.36044656, 0.63955344],\n",
       "       [0.80325329, 0.19674671],\n",
       "       [0.31392951, 0.68607049],\n",
       "       [0.81548601, 0.18451399],\n",
       "       [0.80009365, 0.19990635],\n",
       "       [0.81572427, 0.18427573],\n",
       "       [0.22142919, 0.77857081],\n",
       "       [0.69151467, 0.30848533],\n",
       "       [0.22148844, 0.77851156],\n",
       "       [0.2258641 , 0.7741359 ],\n",
       "       [0.81739695, 0.18260305],\n",
       "       [0.67456002, 0.32543998],\n",
       "       [0.58061135, 0.41938865],\n",
       "       [0.39881985, 0.60118015],\n",
       "       [0.71350255, 0.28649745],\n",
       "       [0.55465511, 0.44534489],\n",
       "       [0.22148844, 0.77851156],\n",
       "       [0.70225486, 0.29774514],\n",
       "       [0.22572034, 0.77427966],\n",
       "       [0.82802524, 0.17197476],\n",
       "       [0.221447  , 0.778553  ],\n",
       "       [0.67456002, 0.32543998],\n",
       "       [0.5869096 , 0.4130904 ],\n",
       "       [0.77518057, 0.22481943],\n",
       "       [0.83138978, 0.16861022],\n",
       "       [0.84578098, 0.15421902],\n",
       "       [0.33216074, 0.66783926],\n",
       "       [0.863833  , 0.136167  ],\n",
       "       [0.49486506, 0.50513494],\n",
       "       [0.67456002, 0.32543998],\n",
       "       [0.68204495, 0.31795505],\n",
       "       [0.70020457, 0.29979543],\n",
       "       [0.80009365, 0.19990635],\n",
       "       [0.57419757, 0.42580243],\n",
       "       [0.82174158, 0.17825842],\n",
       "       [0.6136678 , 0.3863322 ],\n",
       "       [0.82783435, 0.17216565],\n",
       "       [0.22592241, 0.77407759],\n",
       "       [0.22148844, 0.77851156],\n",
       "       [0.80009365, 0.19990635],\n",
       "       [0.62637816, 0.37362184],\n",
       "       [0.78976229, 0.21023771],\n",
       "       [0.22188537, 0.77811463],\n",
       "       [0.29484869, 0.70515131],\n",
       "       [0.70225486, 0.29774514],\n",
       "       [0.77518057, 0.22481943],\n",
       "       [0.21855521, 0.78144479],\n",
       "       [0.22217873, 0.77782127],\n",
       "       [0.77518057, 0.22481943],\n",
       "       [0.79570552, 0.20429448],\n",
       "       [0.82783435, 0.17216565],\n",
       "       [0.78976229, 0.21023771],\n",
       "       [0.80696115, 0.19303885],\n",
       "       [0.22572034, 0.77427966],\n",
       "       [0.80009365, 0.19990635],\n",
       "       [0.79222641, 0.20777359],\n",
       "       [0.78976229, 0.21023771],\n",
       "       [0.36044656, 0.63955344],\n",
       "       [0.69522954, 0.30477046],\n",
       "       [0.29579703, 0.70420297],\n",
       "       [0.39060928, 0.60939072],\n",
       "       [0.74682801, 0.25317199],\n",
       "       [0.65749351, 0.34250649],\n",
       "       [0.22146125, 0.77853875],\n",
       "       [0.39060928, 0.60939072],\n",
       "       [0.80009365, 0.19990635],\n",
       "       [0.58061135, 0.41938865],\n",
       "       [0.65749351, 0.34250649],\n",
       "       [0.22572034, 0.77427966],\n",
       "       [0.74756314, 0.25243686],\n",
       "       [0.80009365, 0.19990635],\n",
       "       [0.24348946, 0.75651054],\n",
       "       [0.80009365, 0.19990635],\n",
       "       [0.39060928, 0.60939072],\n",
       "       [0.2208063 , 0.7791937 ],\n",
       "       [0.76469967, 0.23530033],\n",
       "       [0.81572427, 0.18427573],\n",
       "       [0.80009365, 0.19990635],\n",
       "       [0.80009365, 0.19990635],\n",
       "       [0.77518057, 0.22481943],\n",
       "       [0.39060928, 0.60939072],\n",
       "       [0.70020457, 0.29979543],\n",
       "       [0.39060928, 0.60939072],\n",
       "       [0.2208063 , 0.7791937 ],\n",
       "       [0.46005978, 0.53994022],\n",
       "       [0.78976229, 0.21023771],\n",
       "       [0.36507497, 0.63492503],\n",
       "       [0.80009365, 0.19990635],\n",
       "       [0.75577441, 0.24422559],\n",
       "       [0.78976229, 0.21023771],\n",
       "       [0.22145762, 0.77854238],\n",
       "       [0.80009365, 0.19990635],\n",
       "       [0.60117664, 0.39882336],\n",
       "       [0.81739695, 0.18260305],\n",
       "       [0.22148844, 0.77851156],\n",
       "       [0.81548601, 0.18451399],\n",
       "       [0.78976229, 0.21023771],\n",
       "       [0.78976229, 0.21023771],\n",
       "       [0.53167705, 0.46832295],\n",
       "       [0.80696115, 0.19303885],\n",
       "       [0.80009365, 0.19990635],\n",
       "       [0.78976229, 0.21023771],\n",
       "       [0.80009365, 0.19990635],\n",
       "       [0.80009365, 0.19990635],\n",
       "       [0.81933995, 0.18066005],\n",
       "       [0.39060928, 0.60939072],\n",
       "       [0.24202782, 0.75797218],\n",
       "       [0.36044656, 0.63955344],\n",
       "       [0.22146125, 0.77853875],\n",
       "       [0.67096943, 0.32903057],\n",
       "       [0.77801019, 0.22198981],\n",
       "       [0.43031847, 0.56968153],\n",
       "       [0.49486506, 0.50513494],\n",
       "       [0.2259242 , 0.7740758 ],\n",
       "       [0.25128053, 0.74871947],\n",
       "       [0.78976229, 0.21023771],\n",
       "       [0.22148844, 0.77851156],\n",
       "       [0.78976229, 0.21023771],\n",
       "       [0.78976229, 0.21023771],\n",
       "       [0.43031847, 0.56968153],\n",
       "       [0.78976229, 0.21023771],\n",
       "       [0.2645183 , 0.7354817 ],\n",
       "       [0.81739695, 0.18260305],\n",
       "       [0.80009365, 0.19990635],\n",
       "       [0.6922912 , 0.3077088 ],\n",
       "       [0.72533732, 0.27466268],\n",
       "       [0.863833  , 0.136167  ],\n",
       "       [0.77801019, 0.22198981],\n",
       "       [0.82783435, 0.17216565],\n",
       "       [0.80009365, 0.19990635],\n",
       "       [0.77801019, 0.22198981],\n",
       "       [0.80009365, 0.19990635],\n",
       "       [0.70020457, 0.29979543],\n",
       "       [0.8554056 , 0.1445944 ],\n",
       "       [0.863833  , 0.136167  ],\n",
       "       [0.31843005, 0.68156995],\n",
       "       [0.71510025, 0.28489975],\n",
       "       [0.81548601, 0.18451399],\n",
       "       [0.6136678 , 0.3863322 ],\n",
       "       [0.80696115, 0.19303885],\n",
       "       [0.74682801, 0.25317199],\n",
       "       [0.80009365, 0.19990635],\n",
       "       [0.6136678 , 0.3863322 ],\n",
       "       [0.81548601, 0.18451399],\n",
       "       [0.221447  , 0.778553  ],\n",
       "       [0.77801019, 0.22198981],\n",
       "       [0.83392875, 0.16607125],\n",
       "       [0.25860406, 0.74139594],\n",
       "       [0.84578098, 0.15421902],\n",
       "       [0.78976229, 0.21023771],\n",
       "       [0.22572034, 0.77427966],\n",
       "       [0.60117664, 0.39882336],\n",
       "       [0.6136678 , 0.3863322 ],\n",
       "       [0.36754928, 0.63245072],\n",
       "       [0.36044656, 0.63955344],\n",
       "       [0.48153148, 0.51846852],\n",
       "       [0.37098941, 0.62901059],\n",
       "       [0.78976229, 0.21023771],\n",
       "       [0.81739695, 0.18260305],\n",
       "       [0.4311083 , 0.5688917 ],\n",
       "       [0.74682801, 0.25317199],\n",
       "       [0.84578098, 0.15421902],\n",
       "       [0.26540845, 0.73459155],\n",
       "       [0.70020457, 0.29979543],\n",
       "       [0.78976229, 0.21023771],\n",
       "       [0.77801019, 0.22198981],\n",
       "       [0.73060676, 0.26939324],\n",
       "       [0.77801019, 0.22198981],\n",
       "       [0.85952334, 0.14047666],\n",
       "       [0.21976414, 0.78023586],\n",
       "       [0.21980178, 0.78019822],\n",
       "       [0.71430672, 0.28569328],\n",
       "       [0.21982307, 0.78017693],\n",
       "       [0.22190322, 0.77809678],\n",
       "       [0.80009365, 0.19990635],\n",
       "       [0.71568828, 0.28431172],\n",
       "       [0.22142919, 0.77857081],\n",
       "       [0.78976229, 0.21023771],\n",
       "       [0.37071973, 0.62928027],\n",
       "       [0.82802524, 0.17197476],\n",
       "       [0.28699396, 0.71300604],\n",
       "       [0.80009365, 0.19990635],\n",
       "       [0.863833  , 0.136167  ],\n",
       "       [0.81739695, 0.18260305],\n",
       "       [0.83138978, 0.16861022],\n",
       "       [0.81572427, 0.18427573],\n",
       "       [0.68743909, 0.31256091],\n",
       "       [0.82358757, 0.17641243],\n",
       "       [0.68294625, 0.31705375],\n",
       "       [0.82783435, 0.17216565],\n",
       "       [0.2208063 , 0.7791937 ],\n",
       "       [0.60117664, 0.39882336],\n",
       "       [0.80009365, 0.19990635],\n",
       "       [0.68204495, 0.31795505],\n",
       "       [0.28172003, 0.71827997],\n",
       "       [0.2208063 , 0.7791937 ],\n",
       "       [0.74756314, 0.25243686],\n",
       "       [0.21463977, 0.78536023],\n",
       "       [0.80009365, 0.19990635],\n",
       "       [0.81572427, 0.18427573],\n",
       "       [0.3451759 , 0.6548241 ],\n",
       "       [0.80009365, 0.19990635],\n",
       "       [0.26540845, 0.73459155],\n",
       "       [0.80009365, 0.19990635],\n",
       "       [0.5180356 , 0.4819644 ],\n",
       "       [0.78976229, 0.21023771],\n",
       "       [0.84697657, 0.15302343],\n",
       "       [0.22198645, 0.77801355],\n",
       "       [0.58421707, 0.41578293],\n",
       "       [0.74682801, 0.25317199],\n",
       "       [0.39060928, 0.60939072],\n",
       "       [0.76469967, 0.23530033],\n",
       "       [0.3786005 , 0.6213995 ],\n",
       "       [0.80009365, 0.19990635],\n",
       "       [0.24674265, 0.75325735],\n",
       "       [0.80009365, 0.19990635],\n",
       "       [0.28009006, 0.71990994],\n",
       "       [0.78976229, 0.21023771],\n",
       "       [0.26804309, 0.73195691],\n",
       "       [0.64948784, 0.35051216],\n",
       "       [0.78976229, 0.21023771],\n",
       "       [0.39060928, 0.60939072],\n",
       "       [0.82802524, 0.17197476],\n",
       "       [0.81739695, 0.18260305],\n",
       "       [0.84697657, 0.15302343],\n",
       "       [0.24345908, 0.75654092],\n",
       "       [0.78976229, 0.21023771],\n",
       "       [0.80009365, 0.19990635],\n",
       "       [0.74608285, 0.25391715],\n",
       "       [0.80009365, 0.19990635],\n",
       "       [0.45365523, 0.54634477],\n",
       "       [0.67456002, 0.32543998],\n",
       "       [0.38855841, 0.61144159],\n",
       "       [0.22148844, 0.77851156],\n",
       "       [0.26804309, 0.73195691],\n",
       "       [0.21270375, 0.78729625],\n",
       "       [0.56331774, 0.43668226],\n",
       "       [0.80009365, 0.19990635],\n",
       "       [0.81548601, 0.18451399],\n",
       "       [0.74682801, 0.25317199],\n",
       "       [0.29572544, 0.70427456],\n",
       "       [0.85952334, 0.14047666],\n",
       "       [0.2259242 , 0.7740758 ],\n",
       "       [0.76067824, 0.23932176],\n",
       "       [0.44777234, 0.55222766],\n",
       "       [0.80009365, 0.19990635],\n",
       "       [0.70543279, 0.29456721],\n",
       "       [0.80009365, 0.19990635],\n",
       "       [0.81739695, 0.18260305],\n",
       "       [0.78976229, 0.21023771],\n",
       "       [0.78976229, 0.21023771],\n",
       "       [0.80009365, 0.19990635],\n",
       "       [0.39865223, 0.60134777],\n",
       "       [0.78976229, 0.21023771],\n",
       "       [0.82802524, 0.17197476],\n",
       "       [0.80009365, 0.19990635],\n",
       "       [0.21861391, 0.78138609],\n",
       "       [0.32695764, 0.67304236],\n",
       "       [0.77801019, 0.22198981],\n",
       "       [0.80009365, 0.19990635],\n",
       "       [0.81572427, 0.18427573],\n",
       "       [0.78976229, 0.21023771],\n",
       "       [0.68204495, 0.31795505],\n",
       "       [0.80009365, 0.19990635],\n",
       "       [0.49486506, 0.50513494],\n",
       "       [0.78976229, 0.21023771],\n",
       "       [0.36505101, 0.63494899],\n",
       "       [0.28172003, 0.71827997],\n",
       "       [0.77801019, 0.22198981],\n",
       "       [0.2258641 , 0.7741359 ],\n",
       "       [0.80009365, 0.19990635],\n",
       "       [0.83138978, 0.16861022],\n",
       "       [0.80696115, 0.19303885],\n",
       "       [0.80009365, 0.19990635],\n",
       "       [0.70020457, 0.29979543],\n",
       "       [0.2208063 , 0.7791937 ],\n",
       "       [0.39060928, 0.60939072],\n",
       "       [0.60870293, 0.39129707],\n",
       "       [0.45208645, 0.54791355],\n",
       "       [0.82783435, 0.17216565],\n",
       "       [0.78976229, 0.21023771],\n",
       "       [0.6827267 , 0.3172733 ],\n",
       "       [0.77801019, 0.22198981],\n",
       "       [0.80009365, 0.19990635],\n",
       "       [0.74682801, 0.25317199],\n",
       "       [0.69044415, 0.30955585],\n",
       "       [0.77801019, 0.22198981],\n",
       "       [0.71568828, 0.28431172],\n",
       "       [0.81739695, 0.18260305],\n",
       "       [0.80009365, 0.19990635],\n",
       "       [0.44777234, 0.55222766],\n",
       "       [0.77518057, 0.22481943],\n",
       "       [0.74682801, 0.25317199],\n",
       "       [0.80009365, 0.19990635],\n",
       "       [0.6922912 , 0.3077088 ],\n",
       "       [0.77518057, 0.22481943],\n",
       "       [0.82802524, 0.17197476],\n",
       "       [0.80009365, 0.19990635],\n",
       "       [0.39060928, 0.60939072],\n",
       "       [0.23516753, 0.76483247],\n",
       "       [0.74756314, 0.25243686],\n",
       "       [0.2208063 , 0.7791937 ],\n",
       "       [0.65786961, 0.34213039],\n",
       "       [0.70766809, 0.29233191],\n",
       "       [0.80009365, 0.19990635],\n",
       "       [0.67456002, 0.32543998],\n",
       "       [0.78976229, 0.21023771],\n",
       "       [0.52597474, 0.47402526],\n",
       "       [0.22188537, 0.77811463],\n",
       "       [0.36044656, 0.63955344],\n",
       "       [0.71510025, 0.28489975],\n",
       "       [0.80009365, 0.19990635],\n",
       "       [0.80009365, 0.19990635],\n",
       "       [0.84578098, 0.15421902],\n",
       "       [0.78976229, 0.21023771],\n",
       "       [0.77801019, 0.22198981],\n",
       "       [0.80009365, 0.19990635],\n",
       "       [0.6136678 , 0.3863322 ],\n",
       "       [0.22572034, 0.77427966],\n",
       "       [0.78976229, 0.21023771],\n",
       "       [0.21976414, 0.78023586],\n",
       "       [0.71568828, 0.28431172],\n",
       "       [0.81548601, 0.18451399],\n",
       "       [0.80009365, 0.19990635],\n",
       "       [0.21982307, 0.78017693],\n",
       "       [0.62637816, 0.37362184],\n",
       "       [0.77801019, 0.22198981],\n",
       "       [0.26258857, 0.73741143],\n",
       "       [0.80009365, 0.19990635],\n",
       "       [0.81572427, 0.18427573],\n",
       "       [0.79222641, 0.20777359],\n",
       "       [0.82783435, 0.17216565],\n",
       "       [0.84578098, 0.15421902],\n",
       "       [0.77801019, 0.22198981],\n",
       "       [0.80009365, 0.19990635],\n",
       "       [0.6922912 , 0.3077088 ],\n",
       "       [0.84697657, 0.15302343],\n",
       "       [0.22188902, 0.77811098],\n",
       "       [0.80696115, 0.19303885],\n",
       "       [0.26396802, 0.73603198],\n",
       "       [0.80009365, 0.19990635],\n",
       "       [0.39881985, 0.60118015],\n",
       "       [0.80009365, 0.19990635],\n",
       "       [0.29579703, 0.70420297],\n",
       "       [0.22150626, 0.77849374],\n",
       "       [0.80009365, 0.19990635],\n",
       "       [0.84697657, 0.15302343],\n",
       "       [0.86667695, 0.13332305],\n",
       "       [0.41138419, 0.58861581],\n",
       "       [0.81572427, 0.18427573],\n",
       "       [0.22145762, 0.77854238],\n",
       "       [0.80009365, 0.19990635],\n",
       "       [0.78976229, 0.21023771],\n",
       "       [0.41401073, 0.58598927],\n",
       "       [0.84697657, 0.15302343],\n",
       "       [0.21976414, 0.78023586],\n",
       "       [0.29579703, 0.70420297],\n",
       "       [0.80009365, 0.19990635],\n",
       "       [0.36505101, 0.63494899],\n",
       "       [0.863833  , 0.136167  ],\n",
       "       [0.77518057, 0.22481943],\n",
       "       [0.863833  , 0.136167  ],\n",
       "       [0.22150626, 0.77849374],\n",
       "       [0.70368996, 0.29631004],\n",
       "       [0.80009365, 0.19990635],\n",
       "       [0.22148844, 0.77851156],\n",
       "       [0.81572427, 0.18427573],\n",
       "       [0.81739695, 0.18260305],\n",
       "       [0.22147543, 0.77852457],\n",
       "       [0.22572034, 0.77427966],\n",
       "       [0.70020457, 0.29979543],\n",
       "       [0.80009365, 0.19990635],\n",
       "       [0.76189739, 0.23810261],\n",
       "       [0.77805   , 0.22195   ],\n",
       "       [0.78976229, 0.21023771],\n",
       "       [0.80009365, 0.19990635],\n",
       "       [0.67305669, 0.32694331],\n",
       "       [0.45583809, 0.54416191],\n",
       "       [0.80009365, 0.19990635],\n",
       "       [0.21976414, 0.78023586],\n",
       "       [0.78976229, 0.21023771],\n",
       "       [0.82358757, 0.17641243],\n",
       "       [0.78976229, 0.21023771],\n",
       "       [0.79704573, 0.20295427],\n",
       "       [0.59965062, 0.40034938],\n",
       "       [0.22147543, 0.77852457],\n",
       "       [0.80696115, 0.19303885],\n",
       "       [0.81739695, 0.18260305],\n",
       "       [0.80696115, 0.19303885],\n",
       "       [0.22142919, 0.77857081],\n",
       "       [0.78976229, 0.21023771],\n",
       "       [0.22150626, 0.77849374],\n",
       "       [0.78976229, 0.21023771],\n",
       "       [0.78976229, 0.21023771],\n",
       "       [0.22572034, 0.77427966],\n",
       "       [0.82802524, 0.17197476],\n",
       "       [0.221447  , 0.778553  ],\n",
       "       [0.63021549, 0.36978451],\n",
       "       [0.65749351, 0.34250649],\n",
       "       [0.5841191 , 0.4158809 ],\n",
       "       [0.80009365, 0.19990635],\n",
       "       [0.74756314, 0.25243686],\n",
       "       [0.36044656, 0.63955344],\n",
       "       [0.40691272, 0.59308728],\n",
       "       [0.39060928, 0.60939072],\n",
       "       [0.22148844, 0.77851156],\n",
       "       [0.58061135, 0.41938865],\n",
       "       [0.80009365, 0.19990635],\n",
       "       [0.22148844, 0.77851156],\n",
       "       [0.82783435, 0.17216565],\n",
       "       [0.80009365, 0.19990635],\n",
       "       [0.77518057, 0.22481943]])"
      ]
     },
     "execution_count": 52,
     "metadata": {},
     "output_type": "execute_result"
    }
   ],
   "source": [
    "prob=best_model.predict_proba(x_new_pre)\n",
    "prob"
   ]
  },
  {
   "cell_type": "markdown",
   "metadata": {},
   "source": [
    "save output in file"
   ]
  },
  {
   "cell_type": "code",
   "execution_count": 53,
   "metadata": {},
   "outputs": [],
   "source": [
    "x_new.to_csv(\"result.csv\",index=False)"
   ]
  },
  {
   "cell_type": "code",
   "execution_count": null,
   "metadata": {},
   "outputs": [],
   "source": []
  }
 ],
 "metadata": {
  "kernelspec": {
   "display_name": "venv",
   "language": "python",
   "name": "python3"
  },
  "language_info": {
   "codemirror_mode": {
    "name": "ipython",
    "version": 3
   },
   "file_extension": ".py",
   "mimetype": "text/x-python",
   "name": "python",
   "nbconvert_exporter": "python",
   "pygments_lexer": "ipython3",
   "version": "3.11.4"
  }
 },
 "nbformat": 4,
 "nbformat_minor": 2
}
